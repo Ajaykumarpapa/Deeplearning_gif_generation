# Install necessary dependencies
!pip install --upgrade diffusers transformers pillow -q

# Imports
import torch
from diffusers import StableDiffusionPipeline
from PIL import Image
from IPython.display import Image as IPyImage, display

# Configuration class
class CFG:
    device = "cuda"  # Use "cuda" if available, otherwise "cpu"
    seed = 42
    generator = torch.Generator(device).manual_seed(seed)
    image_gen_steps = 35
    image_gen_model_id = "stabilityai/stable-diffusion-2"
    image_gen_size = (400, 400)
    image_gen_guidance_scale = 9
    prompt_gen_model_id = "gpt2"
    prompt_dataset_size = 6
    prompt_max_length = 12

# Load the Stable Diffusion model
image_gen_model = StableDiffusionPipeline.from_pretrained(
    CFG.image_gen_model_id,
    torch_dtype=torch.float16,
    revision="fp16",
    use_auth_token='use your hugging face token',
    guidance_scale=CFG.image_gen_guidance_scale
)
image_gen_model = image_gen_model.to(CFG.device)

# Function to generate an image from a prompt
def generate_image(prompt, model, seed=None):
    generator = CFG.generator
    if seed is not None:
        generator = torch.Generator(CFG.device).manual_seed(seed)
    image = model(
        prompt,
        num_inference_steps=CFG.image_gen_steps,
        generator=generator,
        guidance_scale=CFG.image_gen_guidance_scale
    ).images[0]
    image = image.resize(CFG.image_gen_size)
    return image

# Generate 5 different images with different seeds for more variety
images = []
for i in range(5):
    print(f"Generating image {i+1}/5...")
    generated_image = generate_image("A cute cat", image_gen_model, seed=CFG.seed + i)
    images.append(generated_image)

# Save the images as an animated GIF
output_gif_path = "/content/generated_images.gif"
images[0].save(
    output_gif_path,
    save_all=True,
    append_images=images[1:],  # append the rest of the images
    duration=500,
    loop=0
)

print(f"GIF saved to {output_gif_path}")

# Display the animated GIF in notebook
display(IPyImage(filename=output_gif_path))
